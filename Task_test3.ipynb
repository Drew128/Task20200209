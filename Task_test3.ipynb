{
  "nbformat": 4,
  "nbformat_minor": 0,
  "metadata": {
    "colab": {
      "name": "Task_test3.ipynb",
      "provenance": [],
      "authorship_tag": "ABX9TyM9uriHEu3SAGbmYoiaaWbS",
      "include_colab_link": true
    },
    "kernelspec": {
      "name": "python3",
      "display_name": "Python 3"
    }
  },
  "cells": [
    {
      "cell_type": "markdown",
      "metadata": {
        "id": "view-in-github",
        "colab_type": "text"
      },
      "source": [
        "<a href=\"https://colab.research.google.com/github/Drew128/Task20200209/blob/master/Task_test3.ipynb\" target=\"_parent\"><img src=\"https://colab.research.google.com/assets/colab-badge.svg\" alt=\"Open In Colab\"/></a>"
      ]
    },
    {
      "cell_type": "code",
      "metadata": {
        "id": "6HbzsU2m94ar",
        "colab_type": "code",
        "outputId": "aac4f49e-0362-4480-e3c7-d105c2f21dc6",
        "colab": {
          "resources": {
            "http://localhost:8080/nbextensions/google.colab/files.js": {
              "data": "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",
              "ok": true,
              "headers": [
                [
                  "content-type",
                  "application/javascript"
                ]
              ],
              "status": 200,
              "status_text": ""
            }
          },
          "base_uri": "https://localhost:8080/",
          "height": 74
        }
      },
      "source": [
        "from google.colab import files\n",
        "uploaded = files.upload()"
      ],
      "execution_count": 0,
      "outputs": [
        {
          "output_type": "display_data",
          "data": {
            "text/html": [
              "\n",
              "     <input type=\"file\" id=\"files-6ec67f51-bf1e-4228-9006-bb6cc9aafeaf\" name=\"files[]\" multiple disabled />\n",
              "     <output id=\"result-6ec67f51-bf1e-4228-9006-bb6cc9aafeaf\">\n",
              "      Upload widget is only available when the cell has been executed in the\n",
              "      current browser session. Please rerun this cell to enable.\n",
              "      </output>\n",
              "      <script src=\"/nbextensions/google.colab/files.js\"></script> "
            ],
            "text/plain": [
              "<IPython.core.display.HTML object>"
            ]
          },
          "metadata": {
            "tags": []
          }
        },
        {
          "output_type": "stream",
          "text": [
            "Saving Test_4.csv to Test_4.csv\n"
          ],
          "name": "stdout"
        }
      ]
    },
    {
      "cell_type": "code",
      "metadata": {
        "id": "A_9VgZmv-A68",
        "colab_type": "code",
        "outputId": "bc335c09-3192-403f-a3a0-ccc265e00c60",
        "colab": {
          "base_uri": "https://localhost:8080/",
          "height": 195
        }
      },
      "source": [
        "import pandas as pd\n",
        "import numpy as np\n",
        "\n",
        "df = pd.read_csv(\"Test_4.csv\", delimiter=\";\")\n",
        "df.head()"
      ],
      "execution_count": 253,
      "outputs": [
        {
          "output_type": "execute_result",
          "data": {
            "text/html": [
              "<div>\n",
              "<style scoped>\n",
              "    .dataframe tbody tr th:only-of-type {\n",
              "        vertical-align: middle;\n",
              "    }\n",
              "\n",
              "    .dataframe tbody tr th {\n",
              "        vertical-align: top;\n",
              "    }\n",
              "\n",
              "    .dataframe thead th {\n",
              "        text-align: right;\n",
              "    }\n",
              "</style>\n",
              "<table border=\"1\" class=\"dataframe\">\n",
              "  <thead>\n",
              "    <tr style=\"text-align: right;\">\n",
              "      <th></th>\n",
              "      <th>sender_id</th>\n",
              "      <th>platform_id</th>\n",
              "      <th>time_stamp</th>\n",
              "      <th>gender</th>\n",
              "      <th>reg_date</th>\n",
              "    </tr>\n",
              "  </thead>\n",
              "  <tbody>\n",
              "    <tr>\n",
              "      <th>0</th>\n",
              "      <td>3207526951</td>\n",
              "      <td>6</td>\n",
              "      <td>16.03.2017 13:35</td>\n",
              "      <td>m</td>\n",
              "      <td>26.01.2017</td>\n",
              "    </tr>\n",
              "    <tr>\n",
              "      <th>1</th>\n",
              "      <td>3207526951</td>\n",
              "      <td>6</td>\n",
              "      <td>16.03.2017 9:09</td>\n",
              "      <td>m</td>\n",
              "      <td>26.01.2017</td>\n",
              "    </tr>\n",
              "    <tr>\n",
              "      <th>2</th>\n",
              "      <td>3207526951</td>\n",
              "      <td>6</td>\n",
              "      <td>16.03.2017 9:09</td>\n",
              "      <td>m</td>\n",
              "      <td>26.01.2017</td>\n",
              "    </tr>\n",
              "    <tr>\n",
              "      <th>3</th>\n",
              "      <td>3207526951</td>\n",
              "      <td>6</td>\n",
              "      <td>16.03.2017 12:13</td>\n",
              "      <td>m</td>\n",
              "      <td>26.01.2017</td>\n",
              "    </tr>\n",
              "    <tr>\n",
              "      <th>4</th>\n",
              "      <td>3207526951</td>\n",
              "      <td>6</td>\n",
              "      <td>15.03.2017 14:01</td>\n",
              "      <td>m</td>\n",
              "      <td>26.01.2017</td>\n",
              "    </tr>\n",
              "  </tbody>\n",
              "</table>\n",
              "</div>"
            ],
            "text/plain": [
              "    sender_id  platform_id        time_stamp gender    reg_date\n",
              "0  3207526951            6  16.03.2017 13:35      m  26.01.2017\n",
              "1  3207526951            6   16.03.2017 9:09      m  26.01.2017\n",
              "2  3207526951            6   16.03.2017 9:09      m  26.01.2017\n",
              "3  3207526951            6  16.03.2017 12:13      m  26.01.2017\n",
              "4  3207526951            6  15.03.2017 14:01      m  26.01.2017"
            ]
          },
          "metadata": {
            "tags": []
          },
          "execution_count": 253
        }
      ]
    },
    {
      "cell_type": "code",
      "metadata": {
        "id": "0W6pP7_s-hiu",
        "colab_type": "code",
        "colab": {}
      },
      "source": [
        "# to do\n",
        "# axes: gender, date registration (before test, after test), platform, group(A/B)\n",
        "# metric seems like log count per user"
      ],
      "execution_count": 0,
      "outputs": []
    },
    {
      "cell_type": "code",
      "metadata": {
        "id": "psvWe46DB33d",
        "colab_type": "code",
        "outputId": "da86bea1-2621-45bd-e9a1-20ebdb135c01",
        "colab": {
          "base_uri": "https://localhost:8080/",
          "height": 195
        }
      },
      "source": [
        "import matplotlib.pyplot as plt\n",
        "import seaborn as sns\n",
        "%matplotlib inline\n",
        "\n",
        "df['time_stamp'] = pd.to_datetime(df['time_stamp'], format=\"%d.%m.%Y %H:%M\", errors = 'coerce')\n",
        "df['reg_date'] = pd.to_datetime(df['reg_date'], format=\"%d.%m.%Y\", errors = 'coerce')\n",
        "\n",
        "test_start = pd.to_datetime('2017-03-24 16:00', format='%Y-%m-%d %H:%M')\n",
        "\n",
        "df['variant'] = df['sender_id'].apply(lambda x: \"A\" if x%2 == 0 else \"B\") \n",
        "df['isTestAlready'] = df['time_stamp'] > test_start\n",
        "df['isNewUser'] =  df['reg_date'] > test_start\n",
        "\n",
        "df.head()\n"
      ],
      "execution_count": 254,
      "outputs": [
        {
          "output_type": "execute_result",
          "data": {
            "text/html": [
              "<div>\n",
              "<style scoped>\n",
              "    .dataframe tbody tr th:only-of-type {\n",
              "        vertical-align: middle;\n",
              "    }\n",
              "\n",
              "    .dataframe tbody tr th {\n",
              "        vertical-align: top;\n",
              "    }\n",
              "\n",
              "    .dataframe thead th {\n",
              "        text-align: right;\n",
              "    }\n",
              "</style>\n",
              "<table border=\"1\" class=\"dataframe\">\n",
              "  <thead>\n",
              "    <tr style=\"text-align: right;\">\n",
              "      <th></th>\n",
              "      <th>sender_id</th>\n",
              "      <th>platform_id</th>\n",
              "      <th>time_stamp</th>\n",
              "      <th>gender</th>\n",
              "      <th>reg_date</th>\n",
              "      <th>variant</th>\n",
              "      <th>isTestAlready</th>\n",
              "      <th>isNewUser</th>\n",
              "    </tr>\n",
              "  </thead>\n",
              "  <tbody>\n",
              "    <tr>\n",
              "      <th>0</th>\n",
              "      <td>3207526951</td>\n",
              "      <td>6</td>\n",
              "      <td>2017-03-16 13:35:00</td>\n",
              "      <td>m</td>\n",
              "      <td>2017-01-26</td>\n",
              "      <td>B</td>\n",
              "      <td>False</td>\n",
              "      <td>False</td>\n",
              "    </tr>\n",
              "    <tr>\n",
              "      <th>1</th>\n",
              "      <td>3207526951</td>\n",
              "      <td>6</td>\n",
              "      <td>2017-03-16 09:09:00</td>\n",
              "      <td>m</td>\n",
              "      <td>2017-01-26</td>\n",
              "      <td>B</td>\n",
              "      <td>False</td>\n",
              "      <td>False</td>\n",
              "    </tr>\n",
              "    <tr>\n",
              "      <th>2</th>\n",
              "      <td>3207526951</td>\n",
              "      <td>6</td>\n",
              "      <td>2017-03-16 09:09:00</td>\n",
              "      <td>m</td>\n",
              "      <td>2017-01-26</td>\n",
              "      <td>B</td>\n",
              "      <td>False</td>\n",
              "      <td>False</td>\n",
              "    </tr>\n",
              "    <tr>\n",
              "      <th>3</th>\n",
              "      <td>3207526951</td>\n",
              "      <td>6</td>\n",
              "      <td>2017-03-16 12:13:00</td>\n",
              "      <td>m</td>\n",
              "      <td>2017-01-26</td>\n",
              "      <td>B</td>\n",
              "      <td>False</td>\n",
              "      <td>False</td>\n",
              "    </tr>\n",
              "    <tr>\n",
              "      <th>4</th>\n",
              "      <td>3207526951</td>\n",
              "      <td>6</td>\n",
              "      <td>2017-03-15 14:01:00</td>\n",
              "      <td>m</td>\n",
              "      <td>2017-01-26</td>\n",
              "      <td>B</td>\n",
              "      <td>False</td>\n",
              "      <td>False</td>\n",
              "    </tr>\n",
              "  </tbody>\n",
              "</table>\n",
              "</div>"
            ],
            "text/plain": [
              "    sender_id  platform_id  ... isTestAlready isNewUser\n",
              "0  3207526951            6  ...         False     False\n",
              "1  3207526951            6  ...         False     False\n",
              "2  3207526951            6  ...         False     False\n",
              "3  3207526951            6  ...         False     False\n",
              "4  3207526951            6  ...         False     False\n",
              "\n",
              "[5 rows x 8 columns]"
            ]
          },
          "metadata": {
            "tags": []
          },
          "execution_count": 254
        }
      ]
    },
    {
      "cell_type": "code",
      "metadata": {
        "id": "PkH-952QYo6s",
        "colab_type": "code",
        "outputId": "b4fcaf3d-f5e7-41d5-c759-4f8ae5ed9c60",
        "colab": {
          "base_uri": "https://localhost:8080/",
          "height": 101
        }
      },
      "source": [
        "print('event dates from: ', df['time_stamp'].min(), '\\nto: ', df['time_stamp'].max())\n",
        "print('\\n registration dates from: ', df['reg_date'].min(), '\\nto: ', df['reg_date'].max())"
      ],
      "execution_count": 255,
      "outputs": [
        {
          "output_type": "stream",
          "text": [
            "event dates from:  2017-03-13 00:00:00 \n",
            "to:  2017-03-27 00:00:00\n",
            "\n",
            " registration dates from:  2017-01-01 00:00:00 \n",
            "to:  2017-03-26 00:00:00\n"
          ],
          "name": "stdout"
        }
      ]
    },
    {
      "cell_type": "code",
      "metadata": {
        "id": "K1XfkZ0sNcW-",
        "colab_type": "code",
        "outputId": "b4044512-5236-4dbd-b630-a2e3ec12cf1b",
        "colab": {
          "base_uri": "https://localhost:8080/",
          "height": 34
        }
      },
      "source": [
        "print('sender_id:', df['sender_id'].nunique(), 'platform_id:', df['platform_id'].unique(), 'gender:', df['gender'].unique())"
      ],
      "execution_count": 256,
      "outputs": [
        {
          "output_type": "stream",
          "text": [
            "sender_id: 26321 platform_id: [6 7] gender: ['m' 'f' ' ']\n"
          ],
          "name": "stdout"
        }
      ]
    },
    {
      "cell_type": "code",
      "metadata": {
        "id": "UfYvGkJsCgSN",
        "colab_type": "code",
        "outputId": "38dec3db-25e5-471e-eb8b-89a5043899ca",
        "colab": {
          "base_uri": "https://localhost:8080/",
          "height": 935
        }
      },
      "source": [
        "cnt_per_user = df.groupby(['sender_id',\t'platform_id',\t'gender',\t'variant',\t'isTestAlready',\t'isNewUser'])[['time_stamp']].count()\n",
        "cnt_per_user.reset_index(inplace=True)\n",
        "mean_likes = cnt_per_user.groupby(['platform_id',\t'gender',\t'variant',\t'isTestAlready',\t'isNewUser'])[['time_stamp']].mean()\n",
        "mean_likes"
      ],
      "execution_count": 0,
      "outputs": [
        {
          "output_type": "execute_result",
          "data": {
            "text/html": [
              "<div>\n",
              "<style scoped>\n",
              "    .dataframe tbody tr th:only-of-type {\n",
              "        vertical-align: middle;\n",
              "    }\n",
              "\n",
              "    .dataframe tbody tr th {\n",
              "        vertical-align: top;\n",
              "    }\n",
              "\n",
              "    .dataframe thead th {\n",
              "        text-align: right;\n",
              "    }\n",
              "</style>\n",
              "<table border=\"1\" class=\"dataframe\">\n",
              "  <thead>\n",
              "    <tr style=\"text-align: right;\">\n",
              "      <th></th>\n",
              "      <th></th>\n",
              "      <th></th>\n",
              "      <th></th>\n",
              "      <th></th>\n",
              "      <th>time_stamp</th>\n",
              "    </tr>\n",
              "    <tr>\n",
              "      <th>platform_id</th>\n",
              "      <th>gender</th>\n",
              "      <th>variant</th>\n",
              "      <th>isTestAlready</th>\n",
              "      <th>isNewUser</th>\n",
              "      <th></th>\n",
              "    </tr>\n",
              "  </thead>\n",
              "  <tbody>\n",
              "    <tr>\n",
              "      <th rowspan=\"14\" valign=\"top\">6</th>\n",
              "      <th rowspan=\"2\" valign=\"top\"></th>\n",
              "      <th rowspan=\"2\" valign=\"top\">B</th>\n",
              "      <th>False</th>\n",
              "      <th>False</th>\n",
              "      <td>33.000000</td>\n",
              "    </tr>\n",
              "    <tr>\n",
              "      <th>True</th>\n",
              "      <th>False</th>\n",
              "      <td>16.000000</td>\n",
              "    </tr>\n",
              "    <tr>\n",
              "      <th rowspan=\"6\" valign=\"top\">f</th>\n",
              "      <th rowspan=\"3\" valign=\"top\">A</th>\n",
              "      <th>False</th>\n",
              "      <th>False</th>\n",
              "      <td>22.202514</td>\n",
              "    </tr>\n",
              "    <tr>\n",
              "      <th rowspan=\"2\" valign=\"top\">True</th>\n",
              "      <th>False</th>\n",
              "      <td>9.880795</td>\n",
              "    </tr>\n",
              "    <tr>\n",
              "      <th>True</th>\n",
              "      <td>12.100000</td>\n",
              "    </tr>\n",
              "    <tr>\n",
              "      <th rowspan=\"3\" valign=\"top\">B</th>\n",
              "      <th>False</th>\n",
              "      <th>False</th>\n",
              "      <td>27.976515</td>\n",
              "    </tr>\n",
              "    <tr>\n",
              "      <th rowspan=\"2\" valign=\"top\">True</th>\n",
              "      <th>False</th>\n",
              "      <td>11.180212</td>\n",
              "    </tr>\n",
              "    <tr>\n",
              "      <th>True</th>\n",
              "      <td>11.433735</td>\n",
              "    </tr>\n",
              "    <tr>\n",
              "      <th rowspan=\"6\" valign=\"top\">m</th>\n",
              "      <th rowspan=\"3\" valign=\"top\">A</th>\n",
              "      <th>False</th>\n",
              "      <th>False</th>\n",
              "      <td>39.145327</td>\n",
              "    </tr>\n",
              "    <tr>\n",
              "      <th rowspan=\"2\" valign=\"top\">True</th>\n",
              "      <th>False</th>\n",
              "      <td>21.155807</td>\n",
              "    </tr>\n",
              "    <tr>\n",
              "      <th>True</th>\n",
              "      <td>14.121094</td>\n",
              "    </tr>\n",
              "    <tr>\n",
              "      <th rowspan=\"3\" valign=\"top\">B</th>\n",
              "      <th>False</th>\n",
              "      <th>False</th>\n",
              "      <td>41.183237</td>\n",
              "    </tr>\n",
              "    <tr>\n",
              "      <th rowspan=\"2\" valign=\"top\">True</th>\n",
              "      <th>False</th>\n",
              "      <td>18.945455</td>\n",
              "    </tr>\n",
              "    <tr>\n",
              "      <th>True</th>\n",
              "      <td>14.326446</td>\n",
              "    </tr>\n",
              "    <tr>\n",
              "      <th rowspan=\"15\" valign=\"top\">7</th>\n",
              "      <th rowspan=\"3\" valign=\"top\"></th>\n",
              "      <th>A</th>\n",
              "      <th>False</th>\n",
              "      <th>False</th>\n",
              "      <td>36.000000</td>\n",
              "    </tr>\n",
              "    <tr>\n",
              "      <th rowspan=\"2\" valign=\"top\">B</th>\n",
              "      <th>False</th>\n",
              "      <th>False</th>\n",
              "      <td>79.000000</td>\n",
              "    </tr>\n",
              "    <tr>\n",
              "      <th>True</th>\n",
              "      <th>False</th>\n",
              "      <td>7.000000</td>\n",
              "    </tr>\n",
              "    <tr>\n",
              "      <th rowspan=\"6\" valign=\"top\">f</th>\n",
              "      <th rowspan=\"3\" valign=\"top\">A</th>\n",
              "      <th>False</th>\n",
              "      <th>False</th>\n",
              "      <td>8.823929</td>\n",
              "    </tr>\n",
              "    <tr>\n",
              "      <th rowspan=\"2\" valign=\"top\">True</th>\n",
              "      <th>False</th>\n",
              "      <td>6.441718</td>\n",
              "    </tr>\n",
              "    <tr>\n",
              "      <th>True</th>\n",
              "      <td>6.013423</td>\n",
              "    </tr>\n",
              "    <tr>\n",
              "      <th rowspan=\"3\" valign=\"top\">B</th>\n",
              "      <th>False</th>\n",
              "      <th>False</th>\n",
              "      <td>9.070679</td>\n",
              "    </tr>\n",
              "    <tr>\n",
              "      <th rowspan=\"2\" valign=\"top\">True</th>\n",
              "      <th>False</th>\n",
              "      <td>6.233227</td>\n",
              "    </tr>\n",
              "    <tr>\n",
              "      <th>True</th>\n",
              "      <td>7.266129</td>\n",
              "    </tr>\n",
              "    <tr>\n",
              "      <th rowspan=\"6\" valign=\"top\">m</th>\n",
              "      <th rowspan=\"3\" valign=\"top\">A</th>\n",
              "      <th>False</th>\n",
              "      <th>False</th>\n",
              "      <td>25.749088</td>\n",
              "    </tr>\n",
              "    <tr>\n",
              "      <th rowspan=\"2\" valign=\"top\">True</th>\n",
              "      <th>False</th>\n",
              "      <td>15.783435</td>\n",
              "    </tr>\n",
              "    <tr>\n",
              "      <th>True</th>\n",
              "      <td>14.060150</td>\n",
              "    </tr>\n",
              "    <tr>\n",
              "      <th rowspan=\"3\" valign=\"top\">B</th>\n",
              "      <th>False</th>\n",
              "      <th>False</th>\n",
              "      <td>24.159943</td>\n",
              "    </tr>\n",
              "    <tr>\n",
              "      <th rowspan=\"2\" valign=\"top\">True</th>\n",
              "      <th>False</th>\n",
              "      <td>12.458806</td>\n",
              "    </tr>\n",
              "    <tr>\n",
              "      <th>True</th>\n",
              "      <td>13.391667</td>\n",
              "    </tr>\n",
              "  </tbody>\n",
              "</table>\n",
              "</div>"
            ],
            "text/plain": [
              "                                                    time_stamp\n",
              "platform_id gender variant isTestAlready isNewUser            \n",
              "6                  B       False         False       33.000000\n",
              "                           True          False       16.000000\n",
              "            f      A       False         False       22.202514\n",
              "                           True          False        9.880795\n",
              "                                         True        12.100000\n",
              "                   B       False         False       27.976515\n",
              "                           True          False       11.180212\n",
              "                                         True        11.433735\n",
              "            m      A       False         False       39.145327\n",
              "                           True          False       21.155807\n",
              "                                         True        14.121094\n",
              "                   B       False         False       41.183237\n",
              "                           True          False       18.945455\n",
              "                                         True        14.326446\n",
              "7                  A       False         False       36.000000\n",
              "                   B       False         False       79.000000\n",
              "                           True          False        7.000000\n",
              "            f      A       False         False        8.823929\n",
              "                           True          False        6.441718\n",
              "                                         True         6.013423\n",
              "                   B       False         False        9.070679\n",
              "                           True          False        6.233227\n",
              "                                         True         7.266129\n",
              "            m      A       False         False       25.749088\n",
              "                           True          False       15.783435\n",
              "                                         True        14.060150\n",
              "                   B       False         False       24.159943\n",
              "                           True          False       12.458806\n",
              "                                         True        13.391667"
            ]
          },
          "metadata": {
            "tags": []
          },
          "execution_count": 156
        }
      ]
    },
    {
      "cell_type": "code",
      "metadata": {
        "id": "xFwCbqufA_sK",
        "colab_type": "code",
        "outputId": "8de778ce-a477-41df-9cc2-b21f79e1c7f5",
        "colab": {
          "base_uri": "https://localhost:8080/",
          "height": 297
        }
      },
      "source": [
        "a = cnt_per_user['time_stamp'][(cnt_per_user['time_stamp'] < 50) & (cnt_per_user['variant'] == 'A') & (cnt_per_user['isTestAlready'] == True)]\n",
        "b = cnt_per_user['time_stamp'][(cnt_per_user['time_stamp'] < 50) & (cnt_per_user['variant'] == 'B') & (cnt_per_user['isTestAlready'] == True)]\n",
        "sns.distplot(a)\n",
        "sns.distplot(b)\n",
        "plt.legend(['A', 'B'])"
      ],
      "execution_count": 0,
      "outputs": [
        {
          "output_type": "execute_result",
          "data": {
            "text/plain": [
              "<matplotlib.legend.Legend at 0x7f8d27e916d8>"
            ]
          },
          "metadata": {
            "tags": []
          },
          "execution_count": 157
        },
        {
          "output_type": "display_data",
          "data": {
            "image/png": "[encoded data removed]",
            "text/plain": [
              "<Figure size 432x288 with 1 Axes>"
            ]
          },
          "metadata": {
            "tags": []
          }
        }
      ]
    },
    {
      "cell_type": "code",
      "metadata": {
        "id": "aSIampvmPf3w",
        "colab_type": "code",
        "colab": {}
      },
      "source": [
        "# it's hard to find a differences on this kind of distribution\n",
        "# lets try Nonparametric tests"
      ],
      "execution_count": 0,
      "outputs": []
    },
    {
      "cell_type": "code",
      "metadata": {
        "id": "iKMToG51STzt",
        "colab_type": "code",
        "outputId": "eaf5a2cf-9546-4998-ec9c-c81a4418662b",
        "colab": {
          "base_uri": "https://localhost:8080/",
          "height": 101
        }
      },
      "source": [
        "from scipy.stats import mannwhitneyu\n",
        "from scipy.stats import wilcoxon\n",
        "\n",
        "def ab_test(a, b):\n",
        "  stat, p = mannwhitneyu(a, b)\n",
        "  print('The null hypothesis: no metter what this button looks like')\n",
        "  print(f'A group mean: {a.mean()}, \\nB group mean: {b.mean()}, \\nMann–Whitney U test:       P-value {p}')\n",
        "  min_shape = min(a.shape[0], b.shape[0])\n",
        "  stat, p = wilcoxon(a[:min_shape], b[:min_shape])\n",
        "  print(f'Wilcoxon signed-rank test: P-value {p}')\n",
        "\n",
        "ab_test(a, b)"
      ],
      "execution_count": 0,
      "outputs": [
        {
          "output_type": "stream",
          "text": [
            "The null hypothesis: no metter what this button looks like\n",
            "A group mean: 12.273324572930354, \n",
            "B group mean: 12.381712626995645, \n",
            "Mann–Whitney U test:       P-value 0.2783534609754176\n",
            "Wilcoxon signed-rank test: P-value 0.9978326031468208\n"
          ],
          "name": "stdout"
        }
      ]
    },
    {
      "cell_type": "code",
      "metadata": {
        "id": "LeJnn9ZWUeA5",
        "colab_type": "code",
        "outputId": "dd01d2d3-83ab-466d-b43d-fdad1a6dda34",
        "colab": {
          "base_uri": "https://localhost:8080/",
          "height": 118
        }
      },
      "source": [
        "# let's start from the begining \\n\n",
        "print(\"so, is the groups have the same results before test?\")\n",
        "a = cnt_per_user['time_stamp'][(cnt_per_user['variant'] == 'A') & (cnt_per_user['isTestAlready'] == False)]\n",
        "b = cnt_per_user['time_stamp'][(cnt_per_user['variant'] == 'B') & (cnt_per_user['isTestAlready'] == False)]\n",
        "ab_test(a, b)"
      ],
      "execution_count": 0,
      "outputs": [
        {
          "output_type": "stream",
          "text": [
            "so, is the groups have the same results before test?\n",
            "The null hypothesis: no metter what this button looks like\n",
            "A group mean: 27.735649674528702, \n",
            "B group mean: 28.54979840439221, \n",
            "Mann–Whitney U test:       P-value 0.3274723038293801\n",
            "Wilcoxon signed-rank test: P-value 0.7898626975571797\n"
          ],
          "name": "stdout"
        }
      ]
    },
    {
      "cell_type": "code",
      "metadata": {
        "id": "fut7Pj6UXQzR",
        "colab_type": "code",
        "outputId": "943f8b17-6bb5-4103-b2a1-04d4570de6ff",
        "colab": {
          "base_uri": "https://localhost:8080/",
          "height": 118
        }
      },
      "source": [
        "print('is the groups have the same results after starting the test?')\n",
        "a = cnt_per_user['time_stamp'][(cnt_per_user['variant'] == 'A') & (cnt_per_user['isTestAlready'] == True)]\n",
        "b = cnt_per_user['time_stamp'][(cnt_per_user['variant'] == 'B') & (cnt_per_user['isTestAlready'] == True)]\n",
        "ab_test(a, b)"
      ],
      "execution_count": 0,
      "outputs": [
        {
          "output_type": "stream",
          "text": [
            "is the groups have the same results after starting the test?\n",
            "The null hypothesis: no metter what this button looks like\n",
            "A group mean: 15.302603613177471, \n",
            "B group mean: 13.666210670314637, \n",
            "Mann–Whitney U test:       P-value 0.24317468071929654\n",
            "Wilcoxon signed-rank test: P-value 0.62941357658686\n"
          ],
          "name": "stdout"
        }
      ]
    },
    {
      "cell_type": "code",
      "metadata": {
        "id": "Dc8gOGdAX3pH",
        "colab_type": "code",
        "outputId": "d3f34634-f13b-4c78-8099-3ee72c52c396",
        "colab": {
          "base_uri": "https://localhost:8080/",
          "height": 118
        }
      },
      "source": [
        "print(\"how about new users, which can't see the old design\")\n",
        "a = cnt_per_user['time_stamp'][(cnt_per_user['variant'] == 'A') & (cnt_per_user['isTestAlready'] == True) & (cnt_per_user['isNewUser'] == True)]\n",
        "b = cnt_per_user['time_stamp'][(cnt_per_user['variant'] == 'B') & (cnt_per_user['isTestAlready'] == True) & (cnt_per_user['isNewUser'] == True)]\n",
        "ab_test(a, b)"
      ],
      "execution_count": 0,
      "outputs": [
        {
          "output_type": "stream",
          "text": [
            "how about new users, which can't see the old design\n",
            "The null hypothesis: no metter what this button looks like\n",
            "A group mean: 12.273324572930354, \n",
            "B group mean: 12.381712626995645, \n",
            "Mann–Whitney U test:       P-value 0.2783534609754176\n",
            "Wilcoxon signed-rank test: P-value 0.9978326031468208\n"
          ],
          "name": "stdout"
        }
      ]
    },
    {
      "cell_type": "code",
      "metadata": {
        "id": "D_ZkTjlugOYs",
        "colab_type": "code",
        "outputId": "ae968608-98ce-4eba-b98a-9ecb5583cf95",
        "colab": {
          "base_uri": "https://localhost:8080/",
          "height": 118
        }
      },
      "source": [
        "print('how about old users, which can see the old version')\n",
        "a = cnt_per_user['time_stamp'][(cnt_per_user['variant'] == 'A') & (cnt_per_user['isTestAlready'] == True) & (cnt_per_user['isNewUser'] == False)]\n",
        "b = cnt_per_user['time_stamp'][(cnt_per_user['variant'] == 'B') & (cnt_per_user['isTestAlready'] == True) & (cnt_per_user['isNewUser'] == False)]\n",
        "ab_test(a, b)"
      ],
      "execution_count": 0,
      "outputs": [
        {
          "output_type": "stream",
          "text": [
            "how about old users, which can see the old version\n",
            "The null hypothesis: no metter what this button looks like\n",
            "A group mean: 16.07026307026307, \n",
            "B group mean: 13.9645987862441, \n",
            "Mann–Whitney U test:       P-value 0.36523006506611577\n",
            "Wilcoxon signed-rank test: P-value 0.4357195469270264\n"
          ],
          "name": "stdout"
        }
      ]
    },
    {
      "cell_type": "code",
      "metadata": {
        "id": "lBrV2tbgZtH7",
        "colab_type": "code",
        "outputId": "702ed23c-32b6-4d92-c17a-b0301aac93a2",
        "colab": {
          "base_uri": "https://localhost:8080/",
          "height": 118
        }
      },
      "source": [
        "print('well how about female?')\n",
        "a = cnt_per_user['time_stamp'][(cnt_per_user['variant'] == 'A') & (cnt_per_user['isTestAlready'] == True) & (cnt_per_user['gender'] == 'f')]\n",
        "b = cnt_per_user['time_stamp'][(cnt_per_user['variant'] == 'B') & (cnt_per_user['isTestAlready'] == True) & (cnt_per_user['gender'] == 'f')]\n",
        "ab_test(a, b)"
      ],
      "execution_count": 0,
      "outputs": [
        {
          "output_type": "stream",
          "text": [
            "well how about female?\n",
            "The null hypothesis: no metter what this button looks like\n",
            "A group mean: 8.153402537485583, \n",
            "B group mean: 8.673723536737235, \n",
            "Mann–Whitney U test:       P-value 0.2637295921058278\n",
            "Wilcoxon signed-rank test: P-value 0.23008856591204518\n"
          ],
          "name": "stdout"
        }
      ]
    },
    {
      "cell_type": "code",
      "metadata": {
        "id": "SKs8-l6KaUMV",
        "colab_type": "code",
        "outputId": "8aa91c12-7007-427f-b538-bce3f64eb322",
        "colab": {
          "base_uri": "https://localhost:8080/",
          "height": 118
        }
      },
      "source": [
        "print('male?')\n",
        "a = cnt_per_user['time_stamp'][(cnt_per_user['variant'] == 'A') & (cnt_per_user['isTestAlready'] == True) & (cnt_per_user['gender'] == 'm')]\n",
        "b = cnt_per_user['time_stamp'][(cnt_per_user['variant'] == 'B') & (cnt_per_user['isTestAlready'] == True) & (cnt_per_user['gender'] == 'm')]\n",
        "ab_test(a, b)"
      ],
      "execution_count": 0,
      "outputs": [
        {
          "output_type": "stream",
          "text": [
            "male?\n",
            "The null hypothesis: no metter what this button looks like\n",
            "A group mean: 17.44218156713842, \n",
            "B group mean: 15.074385964912281, \n",
            "Mann–Whitney U test:       P-value 0.11071588827654322\n",
            "Wilcoxon signed-rank test: P-value 0.3382689407463667\n"
          ],
          "name": "stdout"
        }
      ]
    },
    {
      "cell_type": "code",
      "metadata": {
        "id": "iJgfSee7dVCO",
        "colab_type": "code",
        "outputId": "0fdd3a04-49bb-4615-d867-ba9514f4ad8d",
        "colab": {
          "base_uri": "https://localhost:8080/",
          "height": 134
        }
      },
      "source": [
        "# it was close\n",
        "print(\"let's check old users male and new users male\")\n",
        "print('old users male')\n",
        "a = cnt_per_user['time_stamp'][(cnt_per_user['variant'] == 'A') & (cnt_per_user['isTestAlready'] == True) & (cnt_per_user['gender'] == 'm') & (cnt_per_user['isNewUser'] == False)]\n",
        "b = cnt_per_user['time_stamp'][(cnt_per_user['variant'] == 'B') & (cnt_per_user['isTestAlready'] == True) & (cnt_per_user['gender'] == 'm') & (cnt_per_user['isNewUser'] == False)]\n",
        "ab_test(a, b)"
      ],
      "execution_count": 0,
      "outputs": [
        {
          "output_type": "stream",
          "text": [
            "let's check old users male and new users male\n",
            "old users male\n",
            "The null hypothesis: no metter what this button looks like\n",
            "A group mean: 18.178947368421053, \n",
            "B group mean: 15.321368243243244, \n",
            "Mann–Whitney U test:       P-value 0.20813187358711466\n",
            "Wilcoxon signed-rank test: P-value 0.5051595556010078\n"
          ],
          "name": "stdout"
        }
      ]
    },
    {
      "cell_type": "code",
      "metadata": {
        "id": "yZXLruIIgxx0",
        "colab_type": "code",
        "outputId": "d3487acb-530e-4b12-9a7c-ac6a96460f57",
        "colab": {
          "base_uri": "https://localhost:8080/",
          "height": 118
        }
      },
      "source": [
        "print('new users male')\n",
        "a = cnt_per_user['time_stamp'][(cnt_per_user['variant'] == 'A') & (cnt_per_user['isTestAlready'] == True) & (cnt_per_user['gender'] == 'm') & (cnt_per_user['isNewUser'] == True)]\n",
        "b = cnt_per_user['time_stamp'][(cnt_per_user['variant'] == 'B') & (cnt_per_user['isTestAlready'] == True) & (cnt_per_user['gender'] == 'm') & (cnt_per_user['isNewUser'] == True)]\n",
        "ab_test(a, b)"
      ],
      "execution_count": 0,
      "outputs": [
        {
          "output_type": "stream",
          "text": [
            "new users male\n",
            "The null hypothesis: no metter what this button looks like\n",
            "A group mean: 14.090038314176246, \n",
            "B group mean: 13.860995850622407, \n",
            "Mann–Whitney U test:       P-value 0.16134948111589426\n",
            "Wilcoxon signed-rank test: P-value 0.6370523670544578\n"
          ],
          "name": "stdout"
        }
      ]
    },
    {
      "cell_type": "code",
      "metadata": {
        "id": "MAycWI_gid29",
        "colab_type": "code",
        "outputId": "38c62898-4dac-4fe6-b2e4-e0fc09d7cf3e",
        "colab": {
          "base_uri": "https://localhost:8080/",
          "height": 134
        }
      },
      "source": [
        "print(\"let's check old users female and new users female\")\n",
        "print('old users female')\n",
        "a = cnt_per_user['time_stamp'][(cnt_per_user['variant'] == 'A') & (cnt_per_user['isTestAlready'] == True) & (cnt_per_user['gender'] == 'f') & (cnt_per_user['isNewUser'] == False)]\n",
        "b = cnt_per_user['time_stamp'][(cnt_per_user['variant'] == 'B') & (cnt_per_user['isTestAlready'] == True) & (cnt_per_user['gender'] == 'f') & (cnt_per_user['isNewUser'] == False)]\n",
        "ab_test(a, b)"
      ],
      "execution_count": 0,
      "outputs": [
        {
          "output_type": "stream",
          "text": [
            "let's check old users female and new users female\n",
            "old users female\n",
            "The null hypothesis: no metter what this button looks like\n",
            "A group mean: 8.095541401273886, \n",
            "B group mean: 8.582214765100671, \n",
            "Mann–Whitney U test:       P-value 0.27807746326846866\n",
            "Wilcoxon signed-rank test: P-value 0.18740807172413976\n"
          ],
          "name": "stdout"
        }
      ]
    },
    {
      "cell_type": "code",
      "metadata": {
        "id": "MiHFn1GmixpI",
        "colab_type": "code",
        "outputId": "e65e7ee1-49af-4d6c-af8e-1eca6a54f846",
        "colab": {
          "base_uri": "https://localhost:8080/",
          "height": 118
        }
      },
      "source": [
        "print('new users female')\n",
        "a = cnt_per_user['time_stamp'][(cnt_per_user['variant'] == 'A') & (cnt_per_user['isTestAlready'] == True) & (cnt_per_user['gender'] == 'f') & (cnt_per_user['isNewUser'] == True)]\n",
        "b = cnt_per_user['time_stamp'][(cnt_per_user['variant'] == 'B') & (cnt_per_user['isTestAlready'] == True) & (cnt_per_user['gender'] == 'f') & (cnt_per_user['isNewUser'] == True)]\n",
        "ab_test(a, b)"
      ],
      "execution_count": 0,
      "outputs": [
        {
          "output_type": "stream",
          "text": [
            "new users female\n",
            "The null hypothesis: no metter what this button looks like\n",
            "A group mean: 8.305439330543933, \n",
            "B group mean: 8.93719806763285, \n",
            "Mann–Whitney U test:       P-value 0.24415944316473104\n",
            "Wilcoxon signed-rank test: P-value 0.5352254220486811\n"
          ],
          "name": "stdout"
        }
      ]
    },
    {
      "cell_type": "code",
      "metadata": {
        "id": "uZbYqJQTi4jU",
        "colab_type": "code",
        "colab": {}
      },
      "source": [
        "def get_bootstrap_samples(data, n_samples):\n",
        "  indices = np.random.randint(0, len(data), size=(n_samples, len(data)))\n",
        "  samples = np.array(data)[indices]\n",
        "  return samples\n",
        "\n",
        "def stat_intervals(stat, alpha=0.05):\n",
        "  boundaries = np.percentile(stat, [100 * alpha / 2., 100 * (1 - alpha / 2.)])\n",
        "  return boundaries\n",
        "\n",
        "def statistic_func(samples):\n",
        "  return np.array([np.mean(sample) for sample in samples])\n",
        "\n",
        "def pipline(data):\n",
        "  samples = get_bootstrap_samples(data, 5000)\n",
        "  statistic = statistic_func(samples)\n",
        "  intervals = stat_intervals(statistic)\n",
        "  return {\"intervals\":intervals, \"statistic\":statistic}"
      ],
      "execution_count": 0,
      "outputs": []
    },
    {
      "cell_type": "code",
      "metadata": {
        "id": "GG_g-NNpl3bn",
        "colab_type": "code",
        "outputId": "cb5da14f-3787-42b6-fd7f-19f9c2b565f4",
        "colab": {
          "base_uri": "https://localhost:8080/",
          "height": 315
        }
      },
      "source": [
        "a = cnt_per_user['time_stamp'][(cnt_per_user['variant'] == 'A') & (cnt_per_user['isTestAlready'] == True) & (cnt_per_user['gender'] == 'f')]\n",
        "b = cnt_per_user['time_stamp'][(cnt_per_user['variant'] == 'B') & (cnt_per_user['isTestAlready'] == True) & (cnt_per_user['gender'] == 'f')]\n",
        "a_stat = pipline(a)\n",
        "b_stat = pipline(b)\n",
        "\n",
        "sns.distplot(a_stat['statistic'])\n",
        "sns.distplot(b_stat['statistic'])\n",
        "plt.legend(['A', 'B'])\n",
        "print('Result for female')\n",
        "print('A intervals: ', a_stat[\"intervals\"])\n",
        "print('B intervals: ', b_stat[\"intervals\"])"
      ],
      "execution_count": 0,
      "outputs": [
        {
          "output_type": "stream",
          "text": [
            "Result for female\n",
            "A intervals:  [7.18220877 9.25152826]\n",
            "B intervals:  [7.58153798 9.90666252]\n"
          ],
          "name": "stdout"
        },
        {
          "output_type": "display_data",
          "data": {
            "image/png": "[encoded data removed]",
            "text/plain": [
              "<Figure size 432x288 with 1 Axes>"
            ]
          },
          "metadata": {
            "tags": []
          }
        }
      ]
    },
    {
      "cell_type": "code",
      "metadata": {
        "id": "hS-7_2-CnMPY",
        "colab_type": "code",
        "outputId": "d04496b1-4b94-4161-da00-09199069f29e",
        "colab": {
          "base_uri": "https://localhost:8080/",
          "height": 318
        }
      },
      "source": [
        "diff = b_stat['statistic']-a_stat['statistic']\n",
        "sns.distplot(diff)\n",
        "plt.legend(['Diff'])\n",
        "print('Difference intervals: ', stat_intervals(diff))\n",
        "print(f\"B-variant on female audience about {round(diff.mean()/a_stat['statistic'].mean()*100, 2)} % better\")\n",
        "print(\"But it`s not a statisticaly significant result =(\")\n"
      ],
      "execution_count": 0,
      "outputs": [
        {
          "output_type": "stream",
          "text": [
            "Difference intervals:  [-1.03950393  2.09639777]\n",
            "B-variant on female audience about 6.3 % better\n",
            "But it`s not a statisticaly significant result =(\n"
          ],
          "name": "stdout"
        },
        {
          "output_type": "display_data",
          "data": {
            "image/png": "[encoded data removed]",
            "text/plain": [
              "<Figure size 432x288 with 1 Axes>"
            ]
          },
          "metadata": {
            "tags": []
          }
        }
      ]
    },
    {
      "cell_type": "code",
      "metadata": {
        "id": "OhZfBS7Xo3Pz",
        "colab_type": "code",
        "outputId": "9d670d3a-f2c6-4124-8985-388ba528d9db",
        "colab": {
          "base_uri": "https://localhost:8080/",
          "height": 315
        }
      },
      "source": [
        "a = cnt_per_user['time_stamp'][(cnt_per_user['variant'] == 'A') & (cnt_per_user['isTestAlready'] == True) & (cnt_per_user['gender'] == 'm')]\n",
        "b = cnt_per_user['time_stamp'][(cnt_per_user['variant'] == 'B') & (cnt_per_user['isTestAlready'] == True) & (cnt_per_user['gender'] == 'm')]\n",
        "a_stat = pipline(a)\n",
        "b_stat = pipline(b)\n",
        "\n",
        "sns.distplot(a_stat['statistic'])\n",
        "sns.distplot(b_stat['statistic'])\n",
        "plt.legend(['A', 'B'])\n",
        "print('Result for male')\n",
        "print('A intervals: ', a_stat[\"intervals\"])\n",
        "print('B intervals: ', b_stat[\"intervals\"])"
      ],
      "execution_count": 0,
      "outputs": [
        {
          "output_type": "stream",
          "text": [
            "Result for male\n",
            "A intervals:  [15.77626855 19.30275285]\n",
            "B intervals:  [14.04877193 16.14280702]\n"
          ],
          "name": "stdout"
        },
        {
          "output_type": "display_data",
          "data": {
            "image/png": "[encoded data removed]",
            "text/plain": [
              "<Figure size 432x288 with 1 Axes>"
            ]
          },
          "metadata": {
            "tags": []
          }
        }
      ]
    },
    {
      "cell_type": "code",
      "metadata": {
        "id": "wjXEDatErij0",
        "colab_type": "code",
        "outputId": "6559adcb-d5c3-467f-f93f-f330ea77a5c0",
        "colab": {
          "base_uri": "https://localhost:8080/",
          "height": 317
        }
      },
      "source": [
        "diff = b_stat['statistic']-a_stat['statistic']\n",
        "sns.distplot(diff)\n",
        "plt.legend(['Diff'])\n",
        "print('Difference intervals: ', stat_intervals(diff))\n",
        "print(f\"B-variant for male audience about {round(diff.mean()/a_stat['statistic'].mean()*100, 2)} % (in likes qnt) worse\")\n",
        "print(\"But it`s not a statisticaly significant result =(\")"
      ],
      "execution_count": 0,
      "outputs": [
        {
          "output_type": "stream",
          "text": [
            "Difference intervals:  [-4.40132178 -0.41359053]\n",
            "B-variant for male audience about -13.5 % likes worse\n",
            "But it`s not a statisticaly significant result =(\n"
          ],
          "name": "stdout"
        },
        {
          "output_type": "display_data",
          "data": {
            "image/png": "[encoded data removed]",
            "text/plain": [
              "<Figure size 432x288 with 1 Axes>"
            ]
          },
          "metadata": {
            "tags": []
          }
        }
      ]
    },
    {
      "cell_type": "code",
      "metadata": {
        "id": "TMRCqjNkyAQl",
        "colab_type": "code",
        "colab": {
          "base_uri": "https://localhost:8080/",
          "height": 332
        },
        "outputId": "0fa90b19-d8b6-4375-8a32-dbb45f45d4d5"
      },
      "source": [
        "m = cnt_per_user['time_stamp'][(cnt_per_user['isTestAlready'] == True) & (cnt_per_user['gender'] == 'm')]\n",
        "f = cnt_per_user['time_stamp'][(cnt_per_user['isTestAlready'] == True) & (cnt_per_user['gender'] == 'f')]\n",
        "third_gender = cnt_per_user['time_stamp'][(cnt_per_user['isTestAlready'] == True) & (cnt_per_user['gender'] == ' ')]\n",
        "m_stat = pipline(m)\n",
        "f_stat = pipline(f)\n",
        "third_stat = pipline(third_gender)\n",
        "\n",
        "sns.distplot(m_stat['statistic'])\n",
        "sns.distplot(f_stat['statistic'])\n",
        "sns.distplot(third_stat['statistic'])\n",
        "plt.legend(['m', 'f', '3'])\n",
        "print('Result for genders')\n",
        "print('m intervals: ', m_stat[\"intervals\"])\n",
        "print('f intervals: ', f_stat[\"intervals\"])\n",
        "print('third intervals: ', third_stat[\"intervals\"])"
      ],
      "execution_count": 272,
      "outputs": [
        {
          "output_type": "stream",
          "text": [
            "Result for genders\n",
            "m intervals:  [15.22532191 17.38594919]\n",
            "f intervals:  [7.64070359 9.22217066]\n",
            "third intervals:  [ 7. 16.]\n"
          ],
          "name": "stdout"
        },
        {
          "output_type": "display_data",
          "data": {
            "image/png": "[encoded data removed]",
            "text/plain": [
              "<Figure size 432x288 with 1 Axes>"
            ]
          },
          "metadata": {
            "tags": []
          }
        }
      ]
    },
    {
      "cell_type": "code",
      "metadata": {
        "id": "r6n5b-MgyA8f",
        "colab_type": "code",
        "colab": {}
      },
      "source": [
        ""
      ],
      "execution_count": 0,
      "outputs": []
    }
  ]
}